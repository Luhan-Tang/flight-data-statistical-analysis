{
 "cells": [
  {
   "cell_type": "code",
   "execution_count": 3,
   "id": "12c60f16",
   "metadata": {},
   "outputs": [],
   "source": [
    "import pymysql\n",
    "\n"
   ]
  },
  {
   "cell_type": "code",
   "execution_count": 40,
   "id": "3475dd0c",
   "metadata": {},
   "outputs": [
    {
     "name": "stdout",
     "output_type": "stream",
     "text": [
      "((Decimal('836.4528'),),)\n"
     ]
    }
   ],
   "source": [
    "# 建立和一个 MySQL 数据库的连接，需要指明 MySQL 数据库相关的信息\n",
    "conn = pymysql.connect(\n",
    "    host='localhost',\n",
    "    user='root',\n",
    "    passwd='tang3186490',\n",
    "    port=3306,\n",
    "    db='tanglh'\n",
    ")\n",
    "cur = conn.cursor()  # 产生一个游标，游标用来执行具体的 sql 命令\n",
    "\n",
    "sql = \"select avg(Distance) from flight_info where Origin='MDW'\"\n",
    "cur.execute(sql)\n",
    "res = cur.fetchall()\n",
    "print(res)"
   ]
  },
  {
   "cell_type": "code",
   "execution_count": 48,
   "id": "dfd35fa7",
   "metadata": {},
   "outputs": [],
   "source": [
    "import pymysql # 连接 MySQL 所用包\n",
    "import pandas as pd # 数据框所用包\n",
    "# 建立和一个 MySQL 数据库的连接，需要指明 MySQL 数据库相关的信息\n",
    "conn = pymysql.connect(\n",
    "host='localhost',\n",
    "user='root',\n",
    "passwd='tang3186490', # xxx 为安装时设置的密码\n",
    "port=3306,\n",
    "db='tanglh'\n",
    ")\n",
    "# 产生一个游标，游标用来执行具体的 sql 命令\n",
    "cur = conn.cursor()\n",
    "sql1 = 'select distinct Dest from flight_info' # SQL 语句\n",
    "cur.execute(sql1) # 执行输入的 SQL 命令\n",
    "res= cur.fetchall() # 取回查询结果"
   ]
  },
  {
   "cell_type": "code",
   "execution_count": 52,
   "id": "7282ccbb",
   "metadata": {},
   "outputs": [],
   "source": [
    "#print(res)"
   ]
  },
  {
   "cell_type": "code",
   "execution_count": 57,
   "id": "10c7cd6b",
   "metadata": {},
   "outputs": [
    {
     "name": "stdout",
     "output_type": "stream",
     "text": [
      "    Dest Avg_DepDelay  Min_DepDelay  Max_DepDelay\n",
      "201  CIC      31.1640         -1973           436\n",
      "299  LMT      30.2906           -50           384\n",
      "244  ACY      29.5000           -10           475\n",
      "255  MQT      28.3104         -1996           495\n",
      "276  CDV      28.2126           -89           507\n",
      "300  OTH      27.3571         -2008           486\n",
      "230  EYW      27.1767         -1895           564\n",
      "64   EWR      26.7823         -2358          1451\n",
      "239  HHH      26.3593         -2000           597\n",
      "216  STX      25.5625           -50           503\n"
     ]
    }
   ],
   "source": [
    "output = pd.DataFrame() # 新建空数据框\n",
    "for i in range(len(res)):\n",
    "    sql2=\"select avg(DepTime-CRSDepTime), min(DepTime-CRSDepTime), max(DepTime-CRSDepTime) from flight_time where Id in (select Id from flight_info where Dest = '\" + ''.join(res[i]) + \"' and Cancelled=0)\"\n",
    "    cur.execute(sql2)\n",
    "    res2 = cur.fetchall()\n",
    "    new = pd.DataFrame(res2) # 将运行结果转换为数据框\n",
    "    new['Dest'] = res[i] # 新建列，存入出发地\n",
    "    # 重命名各列\n",
    "    new.columns = ['Avg_DepDelay', 'Min_DepDelay', 'Max_DepDelay', 'Dest']\n",
    "    # 对列进行重新排序\n",
    "    colorder = [ 'Dest','Avg_DepDelay', 'Min_DepDelay', 'Max_DepDelay']\n",
    "    new = new[colorder]\n",
    "    # 将该次查询结果存入数据框 output 中\n",
    "    output = pd.concat([output,new],ignore_index=True)\n",
    "# 将输出数据框按 Avg_DepDelay 降序排列\n",
    "outputdesc = output.sort_values(by='Avg_DepDelay', ascending=False)\n",
    "# 输出数据框前 10 行\n",
    "print(outputdesc.head(10))"
   ]
  },
  {
   "cell_type": "code",
   "execution_count": null,
   "id": "e4b5f5c7",
   "metadata": {},
   "outputs": [],
   "source": []
  },
  {
   "cell_type": "code",
   "execution_count": 20,
   "id": "3d1869c1",
   "metadata": {},
   "outputs": [],
   "source": [
    "import pymysql # pymysql 包用来连接 MySQL\n",
    "import pandas as pd # pandas 包用来储存和计算所需的数据\n",
    "import math # math 包用来完成一些计算\n"
   ]
  },
  {
   "cell_type": "code",
   "execution_count": 36,
   "id": "10813bb8",
   "metadata": {},
   "outputs": [],
   "source": [
    "# 建立和一个 MySQL 数据库的连接，需要指明 MySQL 数据库相关的信息\n",
    "conn = pymysql.connect(\n",
    "    host='localhost',\n",
    "    user='root',\n",
    "    passwd='tang3186490',\n",
    "    port=3306,\n",
    "    db='tanglh'\n",
    ")\n",
    "cur = conn.cursor()  # 产生一个游标，游标用来执行具体的 sql 命令"
   ]
  },
  {
   "cell_type": "code",
   "execution_count": null,
   "id": "446d21da",
   "metadata": {},
   "outputs": [],
   "source": [
    "for i in range(1,13):\n",
    "    sql3 = \"select avg(DepTime-CRSDepTime) from flight_time where Id in (select Id from flight_date where Month = \" + str(i) \" and Id in (select Id from flight_info where Cancelled=0)\"\n",
    "    cur.execute(sql3)\n",
    "    res = cur.fetchall() \n",
    "    new = pd.DataFrame(res3) # 将运行结果转换为数据框\n",
    "    new['Month'] = i # 新建列，存入出发地\n",
    "    # 重命名各列\n",
    "    new.columns = ['Avg_DepDelay', 'Month']\n",
    "    # 对列进行重新排序\n",
    "    colorder = ['Month', 'Avg_DepDelay']\n",
    "    new = new[colorder]\n",
    "    # 将该次查询结果存入数据框 output 中\n",
    "    output = output.append(new, ignore_index=True)\n",
    "#输出\n",
    "import matplotlib.pyplot as plt\n",
    "print(output)\n",
    "plt.bar(output[\"Month\"],output[\"Avg_ArrDelay\"])\n",
    "plt.xlabel(\"Month\")\n",
    "plt.ylabel(\"Avg+DepDelay\")"
   ]
  },
  {
   "cell_type": "code",
   "execution_count": 58,
   "id": "95dfea74",
   "metadata": {},
   "outputs": [],
   "source": [
    "import pymysql # pymysql 包用来连接 MySQL\n",
    "import pandas as pd # pandas 包用来储存和计算所需的数据\n",
    "import math # math 包用来完成一些计算"
   ]
  },
  {
   "cell_type": "code",
   "execution_count": null,
   "id": "b812add1",
   "metadata": {},
   "outputs": [],
   "source": [
    "# 建立和一个 MySQL 数据库的连接，需要指明 MySQL 数据库相关的信息\n",
    "conn = pymysql.connect(\n",
    "    host='localhost',\n",
    "    user='root',\n",
    "    passwd='tang3186490',\n",
    "    port=3306,\n",
    "    db='tanglh'\n",
    ")\n",
    "cur = conn.cursor()  # 产生一个游标，游标用来执行具体的 sql 命令"
   ]
  },
  {
   "cell_type": "code",
   "execution_count": null,
   "id": "7190bdc7",
   "metadata": {},
   "outputs": [],
   "source": [
    "# 是否可以停止查询\n",
    "is_over = False\n",
    "# 给所要计算的值赋值 0\n",
    "Distance_sum = 0 # 距离总和\n",
    "Delay_sum = 0 # 到达延误时间总和\n",
    "Distance_squared_sum = 0 #距离平方的总和\n",
    "Delay_squared_sum = 0 # 到达延误时间平方的总和\n",
    "Cross_sum = 0 # 交叉项总和\n",
    "# 用 N 记录一共有多少条数据\n",
    "N = 0\n",
    "# 用 pos 记录查询的偏移位置\n",
    "pos = 0\n",
    "# 使用 while 循环来实现查询命令，直到查询完所有的数据\n",
    "while is_over==False:\n",
    "# 查询 flight_info 的 id, Distance, Cancelled\n",
    "    sql = \"select id, Distance, Cancelled from flight_info limit 500000 offset %s\"%(pos)\n",
    "    cur.execute(sql)\n",
    "    res1 = cur.fetchall()\n",
    "    new = pd.DataFrame(res1) # 获取 sql 查询结果\n",
    "    if new.empty: # 如果本次查询为空，停止查询\n",
    "        is_over = True\n",
    "    else:\n",
    "         new.columns = ['id', 'Cancelled'] # 修改 new 的列名\n",
    " # 筛选出 Cancelled=0 的数据，记为 new1\n",
    "         new1 = new[new['Cancelled']==0]\n",
    "# 处理数值过大的问题\n",
    "# new1['Distance'] = new1['Distance']*0.001\n",
    " # 记录目前查询到的数据数量\n",
    "         N += len(new1)\n",
    " # 选出航班 id\n",
    "         IDlist = new1['id'].tolist()\n",
    " # 对于本次选出的 id,从 flight_time 查询到达的实际时间、计划时间\n",
    "         sql2 = \"select ArrTime, CRSArrTime from flight_time where Id in %s\" \n",
    " # 执行查询 ArrTime, CRSArrTime 的 sql 语句 sql2，并储存到 new2 中\n",
    "         cur.execute(sql2,(IDlist,))\n",
    "         res2 = cur.fetchall()\n",
    "         new2 = pd.DataFrame(res2)\n",
    "         new2.columns = ['ArrTime', 'CRSArrTime']\n",
    "# 计算所需的五个数\n",
    "# 求出距离的总和\n",
    "         Distance_sum += new1['Distance'].sum()\n",
    "# 求出延误时间总和\n",
    "         Delay_sum += (new2['ArrTime']-new2['CRSArrTime']).sum()\n",
    "# 求出距离平方的总和\n",
    "         Distance_squared_sum += (new1['Distance']**2).sum()\n",
    "# 求出延误时间平方的总和\n",
    "         Delay_squared_sum +=((new2['ArrTime']-new2['CRSArrTime'])**2).sum()\n",
    " # 求出交叉项总和\n",
    "         Cross_sum += (new1['Distance']*(new2['ArrTime']-new2['CRSArrTime'])).sum()\n",
    "         pos = pos + 500000 # 查询完就更新偏移位置\n",
    "         new = pd.DataFrame()\n"
   ]
  },
  {
   "cell_type": "code",
   "execution_count": null,
   "id": "c35ebea5",
   "metadata": {},
   "outputs": [],
   "source": [
    "# 用 r1 表示 r 的分子（只是方便说明，大家可以直接计算，不用拆开）\n",
    "r1 = N*Cross_sum - Distance_sum*Delay_sum\n",
    "# 用 r2 表示 r 的分母\n",
    "r2 = math.sqrt(N*Distance_squared_sum-Distance_sum**2)*\\\n",
    " math.sqrt(N*Delay_squared_sum-Delay_sum**2)\n",
    "# 计算 r\n",
    "r = r1/r2\n",
    "# 显示 r，打印前六位小数\n",
    "print(round(r,6))"
   ]
  }
 ],
 "metadata": {
  "kernelspec": {
   "display_name": "Python 3",
   "language": "python",
   "name": "python3"
  },
  "language_info": {
   "codemirror_mode": {
    "name": "ipython",
    "version": 3
   },
   "file_extension": ".py",
   "mimetype": "text/x-python",
   "name": "python",
   "nbconvert_exporter": "python",
   "pygments_lexer": "ipython3",
   "version": "3.8.8"
  }
 },
 "nbformat": 4,
 "nbformat_minor": 5
}
